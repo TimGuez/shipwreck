{
 "cells": [
  {
   "cell_type": "markdown",
   "metadata": {},
   "source": [
    "# Les naufragés"
   ]
  },
  {
   "cell_type": "markdown",
   "metadata": {},
   "source": [
    "Cher naufragés, vous voici embarqués pour une nouvelle aventure : découvrir la datascience.  Même si dans la vraie vie, la page de départ est vierge, ici vous avez une trame qui vous guidera (et un mentor qui peut vous aider si vous êtes perdus...)\n",
    "Le client est un utilisateurs Whatsapp qui a perdu ses contacts et veux réattribuer chaque message à son auteur. On va donc utiliser la datasience pour prédire l'auteur d'un message, en nous basant sur l'historique de la conversation des naufragés.  \n",
    "**Au boulot !**"
   ]
  },
  {
   "cell_type": "markdown",
   "metadata": {},
   "source": [
    "## Première partie : ne pas réinventer la roue"
   ]
  },
  {
   "cell_type": "markdown",
   "metadata": {},
   "source": [
    "Beaucoup de gens dans le monde ont déjà travaillé sur ces sujets et le grand principe en informatique, c'est d'être flemmard et de réutiliser ce qui a déjà été bien fait. Je commence donc par importer tous les outils, packages et autres bouts de codes qui nous serviront par la suite."
   ]
  },
  {
   "cell_type": "code",
   "execution_count": 1,
   "metadata": {},
   "outputs": [
    {
     "name": "stderr",
     "output_type": "stream",
     "text": [
      "Neither PyTorch nor TensorFlow >= 2.0 have been found.Models won't be available and only tokenizers, configurationand file/data utilities can be used.\n",
      "UsageError: Line magic function `%` not found.\n"
     ]
    }
   ],
   "source": [
    "# Processing\n",
    "import pandas as pd\n",
    "import numpy as np\n",
    "import os\n",
    "import re\n",
    "# Model\n",
    "from transformers import CamembertTokenizer\n",
    "from sklearn import preprocessing\n",
    "from sklearn.svm import SVC\n",
    "# Viualisation\n",
    "from wordcloud import WordCloud, STOPWORDS, ImageColorGenerator\n",
    "\n",
    "import matplotlib.pyplot as plt\n",
    "% matplotlib inline"
   ]
  },
  {
   "cell_type": "markdown",
   "metadata": {},
   "source": [
    "## Deuxième partie :  Text preprocessing"
   ]
  },
  {
   "cell_type": "markdown",
   "metadata": {},
   "source": [
    "Ici, on va aller récupérer les données et les standardiser.\n",
    "\n",
    "**En entrée :**  \n",
    "La conversation whatsapp en format texte (ficher .txt) qui contient les messages à analyser.  \n",
    "Par exemple : _Message du 12 mars 9h53 de @0685294172 à @06047412 : On se retrouve où ?_\n",
    "\n",
    "**En sortie :**  \n",
    "Un ensemble de vecteur mathématiques -> chaque vecteur est un ensemble de nombre.\n",
    "Par exemple : \n",
    "\n",
    "- **message1**\n",
    "    - message1_nombre1\n",
    "    - message1_nombre2\n",
    "    ...\n",
    "    - message1_nombreN\n",
    "- **message2**\n",
    "    - message2_nombre1\n",
    "    - message2_nombre2\n",
    "    ...\n",
    "    - message2_nombreN\n",
    "    \n",
    "On va y aller pas à pas..."
   ]
  },
  {
   "cell_type": "markdown",
   "metadata": {},
   "source": [
    "#### 2.1 : Lire le fichier"
   ]
  },
  {
   "cell_type": "code",
   "execution_count": 2,
   "metadata": {},
   "outputs": [],
   "source": [
    "# La ligne suivante lis le fichier et le stocke dans une variable.\n",
    "full_text = open('../data/Discussion WhatsApp avec Les naufragés 🐠🏄_♀️🏝.txt', \"r\", encoding='utf8').read()"
   ]
  },
  {
   "cell_type": "code",
   "execution_count": 3,
   "metadata": {},
   "outputs": [
    {
     "data": {
      "text/plain": [
       "'16/03/2020 à 13:26 - Les messages envoyés dans ce groupe sont désormais protégés avec le chiffrement de bout en bout. Appuyez pour plus d\\'informations.\\n16/03/2020 à 13:26 - \\u200eThomas Redoulez a créé le groupe \"Fuyons \"\\n16/03/2020 à 13:26 - \\u200eThomas Redoulez vous a ajouté\\n16/03/2020 à 13:26 - \\u200eThomas Re'"
      ]
     },
     "execution_count": 3,
     "metadata": {},
     "output_type": "execute_result"
    }
   ],
   "source": [
    "# Petit extrait juste pour voir à quoi ca ressemble\n",
    "full_text[0:300]"
   ]
  },
  {
   "cell_type": "markdown",
   "metadata": {},
   "source": [
    "#### 2.2 Extraire les info importantes du fichier"
   ]
  },
  {
   "cell_type": "markdown",
   "metadata": {},
   "source": [
    "On veut récupérer le message et l'auteur du message. On va faire ça bien et récupérer aussi l'heure et la date même si on ne s'en servira pas. "
   ]
  },
  {
   "cell_type": "markdown",
   "metadata": {},
   "source": [
    "On utilise des REGEX (Regular Expression). Il s'agit d'une syntaxe informatique particulière qui sert à faire des recherche dans du texte.  \n",
    "C'est affreux mais c'est très puissant.  \n",
    "L'exemple le plus connu c'est \".\" qui signifie \"n'importe quel caractère\". Un exemple plus utile : \"\\[a-z\\]\" qui veut dire \"n'importe quelle lettre en minuscule\"."
   ]
  },
  {
   "cell_type": "code",
   "execution_count": 4,
   "metadata": {},
   "outputs": [],
   "source": [
    "# REGEX\n",
    "pattern = r'^([\\d]{2}\\/[\\d]{2}\\/[\\d]{4}) à ([\\d]{2}:[\\d]{2}) - ([^:]+)\\: (.*)$'\n",
    "tech_pattern = r'^([\\d]{2}\\/[\\d]{2}\\/[\\d]{4}) à ([\\d]{2}:[\\d]{2}) -'"
   ]
  },
  {
   "cell_type": "markdown",
   "metadata": {},
   "source": [
    "On crée un \"DataFrame\" que l'on apelle _conversation_. C'est un objet informatique qui contient un tableau. On va y ranger nos données."
   ]
  },
  {
   "cell_type": "code",
   "execution_count": 5,
   "metadata": {},
   "outputs": [],
   "source": [
    "conversation = pd.DataFrame(columns=['date', 'hour', 'author', 'message'])"
   ]
  },
  {
   "cell_type": "markdown",
   "metadata": {},
   "source": [
    "On execute un _boucle for_ :  \n",
    "L'ordinateur va répéter une instruction en boucle sur un ensemble d'éléments.  \n",
    "Dans chaque execution de la boucle, on détecte la date, heure, auteur et message de la ligne."
   ]
  },
  {
   "cell_type": "code",
   "execution_count": 6,
   "metadata": {},
   "outputs": [],
   "source": [
    "i = 0\n",
    "\n",
    "for msg in full_text.split('\\n'):\n",
    "    s = re.search(pattern, msg)\n",
    "    # petite astuce pour les plus perspicace : on ne range pas dans le tableau les messages qui ne \"collent\" pas au REGEX\n",
    "    if s is not None:\n",
    "        if i>0:\n",
    "            conversation.loc[i-1] = [date, hour, author, txt]\n",
    "        i += 1\n",
    "        date = s.group(1)\n",
    "        hour = s.group(2)\n",
    "        author = s.group(3)\n",
    "        txt = s.group(4)\n",
    "    # A la place on vient vérifier si c'est un message technique de whatsapp (changement d'icone, de nom de groupe)\n",
    "    else:\n",
    "        tech_s = re.search(tech_pattern, msg)\n",
    "        if tech_s is None: # Si ce n'est pas le cas, alors le message précédent était sur plusieurs ligne\n",
    "            txt = txt + \"\\n\" + msg # On colle la nouvelle ligne à l'ancienne\n",
    "\n",
    "conversation.loc[i-1] = [date, hour, author, txt]"
   ]
  },
  {
   "cell_type": "markdown",
   "metadata": {},
   "source": [
    "On va voir à quoi ressemble notre tableau :"
   ]
  },
  {
   "cell_type": "code",
   "execution_count": 85,
   "metadata": {},
   "outputs": [
    {
     "data": {
      "text/html": [
       "<div>\n",
       "<style scoped>\n",
       "    .dataframe tbody tr th:only-of-type {\n",
       "        vertical-align: middle;\n",
       "    }\n",
       "\n",
       "    .dataframe tbody tr th {\n",
       "        vertical-align: top;\n",
       "    }\n",
       "\n",
       "    .dataframe thead th {\n",
       "        text-align: right;\n",
       "    }\n",
       "</style>\n",
       "<table border=\"1\" class=\"dataframe\">\n",
       "  <thead>\n",
       "    <tr style=\"text-align: right;\">\n",
       "      <th></th>\n",
       "      <th>level_0</th>\n",
       "      <th>index</th>\n",
       "      <th>date</th>\n",
       "      <th>hour</th>\n",
       "      <th>author</th>\n",
       "      <th>message</th>\n",
       "    </tr>\n",
       "  </thead>\n",
       "  <tbody>\n",
       "    <tr>\n",
       "      <th>0</th>\n",
       "      <td>0</td>\n",
       "      <td>0</td>\n",
       "      <td>16/03/2020</td>\n",
       "      <td>13:42</td>\n",
       "      <td>Thomas Redoulez</td>\n",
       "      <td>RDV 15h30 Porte d Italie à la station d essence</td>\n",
       "    </tr>\n",
       "    <tr>\n",
       "      <th>1</th>\n",
       "      <td>1</td>\n",
       "      <td>1</td>\n",
       "      <td>16/03/2020</td>\n",
       "      <td>15:00</td>\n",
       "      <td>Timothée Guez</td>\n",
       "      <td>33608138060 et 33616905893 quelle décision po...</td>\n",
       "    </tr>\n",
       "    <tr>\n",
       "      <th>2</th>\n",
       "      <td>2</td>\n",
       "      <td>2</td>\n",
       "      <td>16/03/2020</td>\n",
       "      <td>15:01</td>\n",
       "      <td>Cleophee Martinot Lagarde</td>\n",
       "      <td>C est quoi l adresse 27 avenue de la Porte d I...</td>\n",
       "    </tr>\n",
       "    <tr>\n",
       "      <th>3</th>\n",
       "      <td>3</td>\n",
       "      <td>3</td>\n",
       "      <td>16/03/2020</td>\n",
       "      <td>15:02</td>\n",
       "      <td>Timothée Guez</td>\n",
       "      <td>Exactement</td>\n",
       "    </tr>\n",
       "    <tr>\n",
       "      <th>4</th>\n",
       "      <td>4</td>\n",
       "      <td>4</td>\n",
       "      <td>16/03/2020</td>\n",
       "      <td>15:05</td>\n",
       "      <td>Thomas Redoulez</td>\n",
       "      <td>Oui</td>\n",
       "    </tr>\n",
       "    <tr>\n",
       "      <th>...</th>\n",
       "      <td>...</td>\n",
       "      <td>...</td>\n",
       "      <td>...</td>\n",
       "      <td>...</td>\n",
       "      <td>...</td>\n",
       "      <td>...</td>\n",
       "    </tr>\n",
       "    <tr>\n",
       "      <th>301</th>\n",
       "      <td>301</td>\n",
       "      <td>651</td>\n",
       "      <td>22/04/2020</td>\n",
       "      <td>17:07</td>\n",
       "      <td>Marion Cadart</td>\n",
       "      <td>Une histoire qui finit bien</td>\n",
       "    </tr>\n",
       "    <tr>\n",
       "      <th>302</th>\n",
       "      <td>302</td>\n",
       "      <td>652</td>\n",
       "      <td>22/04/2020</td>\n",
       "      <td>17:09</td>\n",
       "      <td>Ambroise Dunoyer</td>\n",
       "      <td>À la mairie</td>\n",
       "    </tr>\n",
       "    <tr>\n",
       "      <th>303</th>\n",
       "      <td>303</td>\n",
       "      <td>656</td>\n",
       "      <td>22/04/2020</td>\n",
       "      <td>23:02</td>\n",
       "      <td>Ambroise Dunoyer</td>\n",
       "      <td></td>\n",
       "    </tr>\n",
       "    <tr>\n",
       "      <th>304</th>\n",
       "      <td>304</td>\n",
       "      <td>657</td>\n",
       "      <td>22/04/2020</td>\n",
       "      <td>23:06</td>\n",
       "      <td>Marie-Gabriel Bourgue</td>\n",
       "      <td>Sympa vos marques de bronzage</td>\n",
       "    </tr>\n",
       "    <tr>\n",
       "      <th>305</th>\n",
       "      <td>305</td>\n",
       "      <td>661</td>\n",
       "      <td>23/04/2020</td>\n",
       "      <td>14:41</td>\n",
       "      <td>Marion Cadart</td>\n",
       "      <td>force et honneur 33661099325</td>\n",
       "    </tr>\n",
       "  </tbody>\n",
       "</table>\n",
       "<p>306 rows × 6 columns</p>\n",
       "</div>"
      ],
      "text/plain": [
       "     level_0  index        date   hour                     author  \\\n",
       "0          0      0  16/03/2020  13:42            Thomas Redoulez   \n",
       "1          1      1  16/03/2020  15:00              Timothée Guez   \n",
       "2          2      2  16/03/2020  15:01  Cleophee Martinot Lagarde   \n",
       "3          3      3  16/03/2020  15:02              Timothée Guez   \n",
       "4          4      4  16/03/2020  15:05            Thomas Redoulez   \n",
       "..       ...    ...         ...    ...                        ...   \n",
       "301      301    651  22/04/2020  17:07              Marion Cadart   \n",
       "302      302    652  22/04/2020  17:09           Ambroise Dunoyer   \n",
       "303      303    656  22/04/2020  23:02           Ambroise Dunoyer   \n",
       "304      304    657  22/04/2020  23:06      Marie-Gabriel Bourgue   \n",
       "305      305    661  23/04/2020  14:41              Marion Cadart   \n",
       "\n",
       "                                               message  \n",
       "0     RDV 15h30 Porte d Italie à la station d essence   \n",
       "1     33608138060 et 33616905893 quelle décision po...  \n",
       "2    C est quoi l adresse 27 avenue de la Porte d I...  \n",
       "3                                           Exactement  \n",
       "4                                                 Oui   \n",
       "..                                                 ...  \n",
       "301                        Une histoire qui finit bien  \n",
       "302                                       À la mairie   \n",
       "303                                                     \n",
       "304                     Sympa vos marques de bronzage   \n",
       "305                      force et honneur 33661099325   \n",
       "\n",
       "[306 rows x 6 columns]"
      ]
     },
     "execution_count": 85,
     "metadata": {},
     "output_type": "execute_result"
    }
   ],
   "source": [
    "conversation"
   ]
  },
  {
   "cell_type": "markdown",
   "metadata": {},
   "source": []
  },
  {
   "cell_type": "code",
   "execution_count": 84,
   "metadata": {},
   "outputs": [
    {
     "data": {
      "text/html": [
       "<div>\n",
       "<style scoped>\n",
       "    .dataframe tbody tr th:only-of-type {\n",
       "        vertical-align: middle;\n",
       "    }\n",
       "\n",
       "    .dataframe tbody tr th {\n",
       "        vertical-align: top;\n",
       "    }\n",
       "\n",
       "    .dataframe thead th {\n",
       "        text-align: right;\n",
       "    }\n",
       "</style>\n",
       "<table border=\"1\" class=\"dataframe\">\n",
       "  <thead>\n",
       "    <tr style=\"text-align: right;\">\n",
       "      <th></th>\n",
       "      <th>level_0</th>\n",
       "      <th>index</th>\n",
       "      <th>date</th>\n",
       "      <th>hour</th>\n",
       "      <th>message</th>\n",
       "    </tr>\n",
       "    <tr>\n",
       "      <th>author</th>\n",
       "      <th></th>\n",
       "      <th></th>\n",
       "      <th></th>\n",
       "      <th></th>\n",
       "      <th></th>\n",
       "    </tr>\n",
       "  </thead>\n",
       "  <tbody>\n",
       "    <tr>\n",
       "      <th>Ambroise Dunoyer</th>\n",
       "      <td>35</td>\n",
       "      <td>35</td>\n",
       "      <td>35</td>\n",
       "      <td>35</td>\n",
       "      <td>35</td>\n",
       "    </tr>\n",
       "    <tr>\n",
       "      <th>Cleophee Martinot Lagarde</th>\n",
       "      <td>15</td>\n",
       "      <td>15</td>\n",
       "      <td>15</td>\n",
       "      <td>15</td>\n",
       "      <td>15</td>\n",
       "    </tr>\n",
       "    <tr>\n",
       "      <th>Diane De Sentenac</th>\n",
       "      <td>33</td>\n",
       "      <td>33</td>\n",
       "      <td>33</td>\n",
       "      <td>33</td>\n",
       "      <td>33</td>\n",
       "    </tr>\n",
       "    <tr>\n",
       "      <th>Marie-Gabriel Bourgue</th>\n",
       "      <td>35</td>\n",
       "      <td>35</td>\n",
       "      <td>35</td>\n",
       "      <td>35</td>\n",
       "      <td>35</td>\n",
       "    </tr>\n",
       "    <tr>\n",
       "      <th>Marion Cadart</th>\n",
       "      <td>75</td>\n",
       "      <td>75</td>\n",
       "      <td>75</td>\n",
       "      <td>75</td>\n",
       "      <td>75</td>\n",
       "    </tr>\n",
       "    <tr>\n",
       "      <th>Thibault Savignac</th>\n",
       "      <td>11</td>\n",
       "      <td>11</td>\n",
       "      <td>11</td>\n",
       "      <td>11</td>\n",
       "      <td>11</td>\n",
       "    </tr>\n",
       "    <tr>\n",
       "      <th>Thomas Redoulez</th>\n",
       "      <td>46</td>\n",
       "      <td>46</td>\n",
       "      <td>46</td>\n",
       "      <td>46</td>\n",
       "      <td>46</td>\n",
       "    </tr>\n",
       "    <tr>\n",
       "      <th>Timothée Guez</th>\n",
       "      <td>56</td>\n",
       "      <td>56</td>\n",
       "      <td>56</td>\n",
       "      <td>56</td>\n",
       "      <td>56</td>\n",
       "    </tr>\n",
       "  </tbody>\n",
       "</table>\n",
       "</div>"
      ],
      "text/plain": [
       "                           level_0  index  date  hour  message\n",
       "author                                                        \n",
       "Ambroise Dunoyer                35     35    35    35       35\n",
       "Cleophee Martinot Lagarde       15     15    15    15       15\n",
       "Diane De Sentenac               33     33    33    33       33\n",
       "Marie-Gabriel Bourgue           35     35    35    35       35\n",
       "Marion Cadart                   75     75    75    75       75\n",
       "Thibault Savignac               11     11    11    11       11\n",
       "Thomas Redoulez                 46     46    46    46       46\n",
       "Timothée Guez                   56     56    56    56       56"
      ]
     },
     "execution_count": 84,
     "metadata": {},
     "output_type": "execute_result"
    }
   ],
   "source": [
    "conversation.groupby('author').count()"
   ]
  },
  {
   "cell_type": "markdown",
   "metadata": {},
   "source": [
    "#### 2.3 Standardiser les données"
   ]
  },
  {
   "cell_type": "markdown",
   "metadata": {},
   "source": [
    "A ce moment là, on utilise un projet de l'INRIA : CamemBERT. C'est un projet qui a analysé des centaines de Gb de textes français pour fournir une manière intelligente de transformer les mots en vecteurs. Ils ont obtenus de bons résultats, et on en profite."
   ]
  },
  {
   "cell_type": "code",
   "execution_count": 45,
   "metadata": {},
   "outputs": [
    {
     "name": "stdout",
     "output_type": "stream",
     "text": [
      "[5, 121, 11, 660, 16, 730, 25543, 110, 6]\n",
      "[5, 13532, 76, 11, 660, 16, 5271, 6]\n"
     ]
    },
    {
     "ename": "ValueError",
     "evalue": "cannot insert level_0, already exists",
     "output_type": "error",
     "traceback": [
      "\u001b[0;31m---------------------------------------------------------------------------\u001b[0m",
      "\u001b[0;31mValueError\u001b[0m                                Traceback (most recent call last)",
      "\u001b[0;32m<ipython-input-45-27d6f300a730>\u001b[0m in \u001b[0;36m<module>\u001b[0;34m\u001b[0m\n\u001b[1;32m      3\u001b[0m \u001b[0mprint\u001b[0m\u001b[0;34m(\u001b[0m\u001b[0mtokenizer\u001b[0m\u001b[0;34m.\u001b[0m\u001b[0mencode\u001b[0m\u001b[0;34m(\u001b[0m\u001b[0;34m\"J'aime le camembert\"\u001b[0m\u001b[0;34m)\u001b[0m\u001b[0;34m)\u001b[0m\u001b[0;34m\u001b[0m\u001b[0;34m\u001b[0m\u001b[0m\n\u001b[1;32m      4\u001b[0m \u001b[0mprint\u001b[0m\u001b[0;34m(\u001b[0m\u001b[0mtokenizer\u001b[0m\u001b[0;34m.\u001b[0m\u001b[0mencode\u001b[0m\u001b[0;34m(\u001b[0m\u001b[0;34m\"Vraiment j'aime le fromage\"\u001b[0m\u001b[0;34m)\u001b[0m\u001b[0;34m)\u001b[0m\u001b[0;34m\u001b[0m\u001b[0;34m\u001b[0m\u001b[0m\n\u001b[0;32m----> 5\u001b[0;31m \u001b[0mconversation\u001b[0m \u001b[0;34m=\u001b[0m \u001b[0mconversation\u001b[0m\u001b[0;34m[\u001b[0m\u001b[0mconversation\u001b[0m\u001b[0;34m[\u001b[0m\u001b[0;34m'message'\u001b[0m\u001b[0;34m]\u001b[0m \u001b[0;34m!=\u001b[0m \u001b[0;34m'<Médias omis>'\u001b[0m\u001b[0;34m]\u001b[0m\u001b[0;34m.\u001b[0m\u001b[0mreset_index\u001b[0m\u001b[0;34m(\u001b[0m\u001b[0;34m)\u001b[0m\u001b[0;34m\u001b[0m\u001b[0;34m\u001b[0m\u001b[0m\n\u001b[0m\u001b[1;32m      6\u001b[0m \u001b[0mconversation\u001b[0m\u001b[0;34m[\u001b[0m\u001b[0;34m'message'\u001b[0m\u001b[0;34m]\u001b[0m \u001b[0;34m=\u001b[0m \u001b[0mconversation\u001b[0m\u001b[0;34m[\u001b[0m\u001b[0;34m'message'\u001b[0m\u001b[0;34m]\u001b[0m\u001b[0;34m.\u001b[0m\u001b[0mmap\u001b[0m\u001b[0;34m(\u001b[0m\u001b[0;32mlambda\u001b[0m \u001b[0mx\u001b[0m\u001b[0;34m:\u001b[0m \u001b[0mre\u001b[0m\u001b[0;34m.\u001b[0m\u001b[0msub\u001b[0m\u001b[0;34m(\u001b[0m\u001b[0;34mr'[\\W^\\s]+'\u001b[0m\u001b[0;34m,\u001b[0m \u001b[0;34m' '\u001b[0m\u001b[0;34m,\u001b[0m \u001b[0mx\u001b[0m\u001b[0;34m)\u001b[0m\u001b[0;34m)\u001b[0m\u001b[0;34m\u001b[0m\u001b[0;34m\u001b[0m\u001b[0m\n",
      "\u001b[0;32m/mnt/d/projects/shipwrecked/shipwrecked/lib/python3.8/site-packages/pandas/core/frame.py\u001b[0m in \u001b[0;36mreset_index\u001b[0;34m(self, level, drop, inplace, col_level, col_fill)\u001b[0m\n\u001b[1;32m   4602\u001b[0m                 \u001b[0;31m# to ndarray and maybe infer different dtype\u001b[0m\u001b[0;34m\u001b[0m\u001b[0;34m\u001b[0m\u001b[0;34m\u001b[0m\u001b[0m\n\u001b[1;32m   4603\u001b[0m                 \u001b[0mlevel_values\u001b[0m \u001b[0;34m=\u001b[0m \u001b[0m_maybe_casted_values\u001b[0m\u001b[0;34m(\u001b[0m\u001b[0mlev\u001b[0m\u001b[0;34m,\u001b[0m \u001b[0mlab\u001b[0m\u001b[0;34m)\u001b[0m\u001b[0;34m\u001b[0m\u001b[0;34m\u001b[0m\u001b[0m\n\u001b[0;32m-> 4604\u001b[0;31m                 \u001b[0mnew_obj\u001b[0m\u001b[0;34m.\u001b[0m\u001b[0minsert\u001b[0m\u001b[0;34m(\u001b[0m\u001b[0;36m0\u001b[0m\u001b[0;34m,\u001b[0m \u001b[0mname\u001b[0m\u001b[0;34m,\u001b[0m \u001b[0mlevel_values\u001b[0m\u001b[0;34m)\u001b[0m\u001b[0;34m\u001b[0m\u001b[0;34m\u001b[0m\u001b[0m\n\u001b[0m\u001b[1;32m   4605\u001b[0m \u001b[0;34m\u001b[0m\u001b[0m\n\u001b[1;32m   4606\u001b[0m         \u001b[0mnew_obj\u001b[0m\u001b[0;34m.\u001b[0m\u001b[0mindex\u001b[0m \u001b[0;34m=\u001b[0m \u001b[0mnew_index\u001b[0m\u001b[0;34m\u001b[0m\u001b[0;34m\u001b[0m\u001b[0m\n",
      "\u001b[0;32m/mnt/d/projects/shipwrecked/shipwrecked/lib/python3.8/site-packages/pandas/core/frame.py\u001b[0m in \u001b[0;36minsert\u001b[0;34m(self, loc, column, value, allow_duplicates)\u001b[0m\n\u001b[1;32m   3494\u001b[0m         \u001b[0mself\u001b[0m\u001b[0;34m.\u001b[0m\u001b[0m_ensure_valid_index\u001b[0m\u001b[0;34m(\u001b[0m\u001b[0mvalue\u001b[0m\u001b[0;34m)\u001b[0m\u001b[0;34m\u001b[0m\u001b[0;34m\u001b[0m\u001b[0m\n\u001b[1;32m   3495\u001b[0m         \u001b[0mvalue\u001b[0m \u001b[0;34m=\u001b[0m \u001b[0mself\u001b[0m\u001b[0;34m.\u001b[0m\u001b[0m_sanitize_column\u001b[0m\u001b[0;34m(\u001b[0m\u001b[0mcolumn\u001b[0m\u001b[0;34m,\u001b[0m \u001b[0mvalue\u001b[0m\u001b[0;34m,\u001b[0m \u001b[0mbroadcast\u001b[0m\u001b[0;34m=\u001b[0m\u001b[0;32mFalse\u001b[0m\u001b[0;34m)\u001b[0m\u001b[0;34m\u001b[0m\u001b[0;34m\u001b[0m\u001b[0m\n\u001b[0;32m-> 3496\u001b[0;31m         \u001b[0mself\u001b[0m\u001b[0;34m.\u001b[0m\u001b[0m_data\u001b[0m\u001b[0;34m.\u001b[0m\u001b[0minsert\u001b[0m\u001b[0;34m(\u001b[0m\u001b[0mloc\u001b[0m\u001b[0;34m,\u001b[0m \u001b[0mcolumn\u001b[0m\u001b[0;34m,\u001b[0m \u001b[0mvalue\u001b[0m\u001b[0;34m,\u001b[0m \u001b[0mallow_duplicates\u001b[0m\u001b[0;34m=\u001b[0m\u001b[0mallow_duplicates\u001b[0m\u001b[0;34m)\u001b[0m\u001b[0;34m\u001b[0m\u001b[0;34m\u001b[0m\u001b[0m\n\u001b[0m\u001b[1;32m   3497\u001b[0m \u001b[0;34m\u001b[0m\u001b[0m\n\u001b[1;32m   3498\u001b[0m     \u001b[0;32mdef\u001b[0m \u001b[0massign\u001b[0m\u001b[0;34m(\u001b[0m\u001b[0mself\u001b[0m\u001b[0;34m,\u001b[0m \u001b[0;34m**\u001b[0m\u001b[0mkwargs\u001b[0m\u001b[0;34m)\u001b[0m \u001b[0;34m->\u001b[0m \u001b[0;34m\"DataFrame\"\u001b[0m\u001b[0;34m:\u001b[0m\u001b[0;34m\u001b[0m\u001b[0;34m\u001b[0m\u001b[0m\n",
      "\u001b[0;32m/mnt/d/projects/shipwrecked/shipwrecked/lib/python3.8/site-packages/pandas/core/internals/managers.py\u001b[0m in \u001b[0;36minsert\u001b[0;34m(self, loc, item, value, allow_duplicates)\u001b[0m\n\u001b[1;32m   1171\u001b[0m         \u001b[0;32mif\u001b[0m \u001b[0;32mnot\u001b[0m \u001b[0mallow_duplicates\u001b[0m \u001b[0;32mand\u001b[0m \u001b[0mitem\u001b[0m \u001b[0;32min\u001b[0m \u001b[0mself\u001b[0m\u001b[0;34m.\u001b[0m\u001b[0mitems\u001b[0m\u001b[0;34m:\u001b[0m\u001b[0;34m\u001b[0m\u001b[0;34m\u001b[0m\u001b[0m\n\u001b[1;32m   1172\u001b[0m             \u001b[0;31m# Should this be a different kind of error??\u001b[0m\u001b[0;34m\u001b[0m\u001b[0;34m\u001b[0m\u001b[0;34m\u001b[0m\u001b[0m\n\u001b[0;32m-> 1173\u001b[0;31m             \u001b[0;32mraise\u001b[0m \u001b[0mValueError\u001b[0m\u001b[0;34m(\u001b[0m\u001b[0;34mf\"cannot insert {item}, already exists\"\u001b[0m\u001b[0;34m)\u001b[0m\u001b[0;34m\u001b[0m\u001b[0;34m\u001b[0m\u001b[0m\n\u001b[0m\u001b[1;32m   1174\u001b[0m \u001b[0;34m\u001b[0m\u001b[0m\n\u001b[1;32m   1175\u001b[0m         \u001b[0;32mif\u001b[0m \u001b[0;32mnot\u001b[0m \u001b[0misinstance\u001b[0m\u001b[0;34m(\u001b[0m\u001b[0mloc\u001b[0m\u001b[0;34m,\u001b[0m \u001b[0mint\u001b[0m\u001b[0;34m)\u001b[0m\u001b[0;34m:\u001b[0m\u001b[0;34m\u001b[0m\u001b[0;34m\u001b[0m\u001b[0m\n",
      "\u001b[0;31mValueError\u001b[0m: cannot insert level_0, already exists"
     ]
    }
   ],
   "source": [
    "tokenizer = CamembertTokenizer.from_pretrained('camembert-base') # tokenizer est le convertisseur mot <-> vecteurs\n",
    "# Juste pour avoir un exemple...\n",
    "print(tokenizer.encode(\"J'aime le camembert\"))\n",
    "print(tokenizer.encode(\"Vraiment j'aime le fromage\"))\n",
    "conversation = conversation[conversation['message'] != '<Médias omis>'].reset_index()\n",
    "conversation['message'] = conversation['message'].map(lambda x: re.sub(r'[\\W^\\s]+', ' ', x))"
   ]
  },
  {
   "cell_type": "markdown",
   "metadata": {},
   "source": [
    "Pour info, les début et fin de messages sont toujours encodé \"5\" et \"6\".  \n",
    "On fait le même travail avec les noms des auteurs, qui doivent être transformés en chiffres. Là aussi un outil existe déjà."
   ]
  },
  {
   "cell_type": "code",
   "execution_count": 46,
   "metadata": {},
   "outputs": [
    {
     "data": {
      "text/plain": [
       "LabelEncoder()"
      ]
     },
     "execution_count": 46,
     "metadata": {},
     "output_type": "execute_result"
    }
   ],
   "source": [
    "le = preprocessing.LabelEncoder() # le (pour label encoder) est le convertisseur etiquette <-> nom d'auteur\n",
    "le.fit(conversation.author) # Il faut lui fournir la liste des étiquettes pour qu'il sache comment convertir..."
   ]
  },
  {
   "cell_type": "markdown",
   "metadata": {},
   "source": [
    "On créé la fonction qu'on va appliquer au tableau.  \n",
    "**Entrée :** message au format texte  \n",
    "**Sortie :** Vecteur (ensemble de nombre)  "
   ]
  },
  {
   "cell_type": "code",
   "execution_count": 47,
   "metadata": {},
   "outputs": [],
   "source": [
    "def transform_sentence(msg):\n",
    "    l = len(tokenizer) # l est la taille du dictionnaire CamemBERT\n",
    "    # On transforme le msg en chiffres\n",
    "    sparse_vectors = tokenizer.encode(msg) \n",
    "    # On passe de '3' à [0,0,1,0,0...]\n",
    "    vec = np.zeros(l)\n",
    "    for sparse_vec in sparse_vectors:        \n",
    "        vec[sparse_vec] = vec[sparse_vec] + 1\n",
    "    return vec"
   ]
  },
  {
   "cell_type": "markdown",
   "metadata": {},
   "source": [
    "On a maintenant tous les outils pour créer notre X, qui contiendra l'ensemble de nos données standardisées"
   ]
  },
  {
   "cell_type": "code",
   "execution_count": 48,
   "metadata": {},
   "outputs": [
    {
     "name": "stderr",
     "output_type": "stream",
     "text": [
      "Token indices sequence length is longer than the specified maximum sequence length for this model (643 > 512). Running this sequence through the model will result in indexing errors\n",
      "Token indices sequence length is longer than the specified maximum sequence length for this model (1011 > 512). Running this sequence through the model will result in indexing errors\n"
     ]
    }
   ],
   "source": [
    "X = np.array(len(conversation)) # Création de X vide\n",
    "l = list()\n",
    "for i, row in conversation.iterrows():\n",
    "     # On applique la fonction à chaque ligne et on stocke le résultat dans une liste\n",
    "    l.append(transform_sentence(row['message']))\n",
    "X = np.array(l) # On place la liste dans X "
   ]
  },
  {
   "cell_type": "markdown",
   "metadata": {},
   "source": [
    "On crée aussi le Y avec les étiquettes : les auteurs de chaque message."
   ]
  },
  {
   "cell_type": "code",
   "execution_count": 49,
   "metadata": {},
   "outputs": [],
   "source": [
    "Y = le.transform(conversation.author)"
   ]
  },
  {
   "cell_type": "markdown",
   "metadata": {},
   "source": [
    "Fin de la transformation de données. On a maintenant X et Y, parfaitement structurés pour rentrer dans les algorithmes classiques de datascience."
   ]
  },
  {
   "cell_type": "markdown",
   "metadata": {},
   "source": [
    "### Troisième partie : modelisation de données"
   ]
  },
  {
   "cell_type": "markdown",
   "metadata": {},
   "source": [
    "Cette partie sera rapide.  \n",
    "J'ai choisi un algorithme assez classique qui s'appelle SVC (Support Vector  Clustering). Il n'y a pas besoin de le réécrire : tout est prêt à l'emploi.  \n",
    "\n",
    "Le choix de l'algorithme est une question passionnante mais pas immédiate. C'est complexe et on commence généralement par faire quelque chose de simple mais qui marche, avant de se poser cette question.  \n",
    "\n",
    "En avant pour la version \"simple\" donc."
   ]
  },
  {
   "cell_type": "code",
   "execution_count": 50,
   "metadata": {},
   "outputs": [
    {
     "data": {
      "text/plain": [
       "SVC(C=1.0, break_ties=False, cache_size=200, class_weight=None, coef0=0.0,\n",
       "    decision_function_shape='ovr', degree=3, gamma=0.15, kernel='rbf',\n",
       "    max_iter=-1, probability=False, random_state=None, shrinking=True,\n",
       "    tol=0.001, verbose=False)"
      ]
     },
     "execution_count": 50,
     "metadata": {},
     "output_type": "execute_result"
    }
   ],
   "source": [
    "clf = SVC(gamma=0.15)\n",
    "clf.fit(X, Y) # Et hop, un simple ligne et l'apprentissage est fini."
   ]
  },
  {
   "cell_type": "markdown",
   "metadata": {},
   "source": [
    "Observons le résultat :"
   ]
  },
  {
   "cell_type": "code",
   "execution_count": 51,
   "metadata": {},
   "outputs": [
    {
     "data": {
      "text/plain": [
       "array(['Marion Cadart'], dtype=object)"
      ]
     },
     "execution_count": 51,
     "metadata": {},
     "output_type": "execute_result"
    }
   ],
   "source": [
    "le.inverse_transform(clf.predict([transform_sentence(\"C'est pas faux\")]))"
   ]
  },
  {
   "cell_type": "markdown",
   "metadata": {},
   "source": [
    "### Quatrième partie : visualisation de données"
   ]
  },
  {
   "cell_type": "markdown",
   "metadata": {},
   "source": [
    "On va essayer de visualiser le top 20 des mots les plus utilisés par notre fan de Kaamelott.  \n",
    "Pour ça, on commence par prédire l'ensemble de nos données :"
   ]
  },
  {
   "cell_type": "code",
   "execution_count": 52,
   "metadata": {},
   "outputs": [],
   "source": [
    "predictions = clf.predict(X)"
   ]
  },
  {
   "cell_type": "markdown",
   "metadata": {},
   "source": [
    "Nouvelle _boucle for_ :  \n",
    "Pour chaque auteur, on sélectionne les message qui ont été predits comme étant de lui.  \n",
    "\n",
    "Ensuite on additionne tous les mots et on stocke le tout dans une variable \"atavisme\"."
   ]
  },
  {
   "cell_type": "code",
   "execution_count": 65,
   "metadata": {},
   "outputs": [],
   "source": [
    "atavism = {} # vide pour l'instant\n",
    "for i in np.unique(predictions): # pour chaque auteur\n",
    "    words_dict = {}\n",
    "    personal_words = X[predictions == i] # personal_words contient l'ensemble des mots utilisés par l'auteur\n",
    "    bag_of_words = personal_words.sum(axis=0) # on somme les vecteurs : mot 1 + mot 1 + mot 3 = [2, 0, 1]\n",
    "    \n",
    "    for token in bag_of_words.argsort()[-20:][::-1]: # On fait le top 20\n",
    "        word = tokenizer.decode(int(token), skip_special_tokens=True)\n",
    "        words_dict[word] = bag_of_words[token]\n",
    "    del words_dict['<s>'] # on supprime les début de message -> code 5\n",
    "    del words_dict['</s>']# on supprime les fin de message -> code 6\n",
    "    del words_dict['de']\n",
    "    atavism[str(le.inverse_transform([i])[0])] = words_dict # On ajoute le résultat à la variable atavism"
   ]
  },
  {
   "cell_type": "markdown",
   "metadata": {},
   "source": [
    "Moment tant attendu : on visualise le tout !  \n",
    "\n",
    "On fait un \"nuage de mots\". Ce format est très utilisé pour les textes."
   ]
  },
  {
   "cell_type": "code",
   "execution_count": 86,
   "metadata": {},
   "outputs": [
    {
     "data": {
      "text/plain": [
       "<matplotlib.image.AxesImage at 0x7f5ccf6b4760>"
      ]
     },
     "execution_count": 86,
     "metadata": {},
     "output_type": "execute_result"
    },
    {
     "data": {
      "image/png": "[encoded data removed]",
      "text/plain": [
       "<Figure size 432x288 with 1 Axes>"
      ]
     },
     "metadata": {
      "needs_background": "light"
     },
     "output_type": "display_data"
    }
   ],
   "source": [
    "author = 'Marion Cadart'\n",
    "wc = WordCloud(background_color=\"black\",width=1000,height=1000, max_words=20,relative_scaling=0.5,normalize_plurals=False).generate_from_frequencies(atavism[author])\n",
    "plt.imshow(wc)"
   ]
  },
  {
   "cell_type": "markdown",
   "metadata": {},
   "source": [
    "### Cinquième partie : à vous de jouer"
   ]
  },
  {
   "cell_type": "markdown",
   "metadata": {},
   "source": [
    "On observe que c'est tout nul. Devinez-vous pourquoi ? Comment corriger ? \n",
    "Réponse en cliquant sur les 3 petit points."
   ]
  },
  {
   "cell_type": "markdown",
   "metadata": {},
   "source": [
    "On a laissé beaucoup de \"parasites\" : \n",
    "- la ponctuation\n",
    "- les \"médias omis\" quand on envoie une photo sur whatsapp. \n",
    "- ...  \n",
    "On va corriger ça en ajoutant  \n",
    "```conversation = conversation[conversation['message'] != '<Médias omis>'].reset_index()```  \n",
    "```conversation['message'] = conversation['message'].map(lambda x: re.sub(r'[\\W^\\s]+', ' ', x))```  \n",
    "au preprocessing des données.\n",
    "Que font ces lignes ? Où les mettre ?"
   ]
  },
  {
   "cell_type": "markdown",
   "metadata": {},
   "source": [
    "Et si vous échouez, rappelez vous que c'est dans le thème."
   ]
  },
  {
   "cell_type": "code",
   "execution_count": null,
   "metadata": {},
   "outputs": [],
   "source": []
  }
 ],
 "metadata": {
  "kernelspec": {
   "display_name": "shipwecked",
   "language": "python",
   "name": "shipwecked"
  },
  "language_info": {
   "codemirror_mode": {
    "name": "ipython",
    "version": 3
   },
   "file_extension": ".py",
   "mimetype": "text/x-python",
   "name": "python",
   "nbconvert_exporter": "python",
   "pygments_lexer": "ipython3",
   "version": "3.8.2"
  }
 },
 "nbformat": 4,
 "nbformat_minor": 4
}
